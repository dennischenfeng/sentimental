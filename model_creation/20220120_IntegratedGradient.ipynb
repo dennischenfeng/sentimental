{
 "cells": [
  {
   "cell_type": "markdown",
   "id": "009238e6-8aec-4ef1-9ebb-778d9af2f0d0",
   "metadata": {},
   "source": [
    "Apply IG to transformer"
   ]
  },
  {
   "cell_type": "code",
   "execution_count": 4,
   "id": "d8401cc1-2f1e-4be7-ad7b-a039e7b3e2d7",
   "metadata": {},
   "outputs": [],
   "source": [
    "import numpy as np\n",
    "import pandas as pd\n",
    "import matplotlib.pyplot as plt\n",
    "import gzip\n",
    "import json\n",
    "\n",
    "import torch as th\n",
    "import torch.nn.functional as F\n",
    "from torch import nn\n",
    "from torch import optim\n",
    "from torch.nn import Embedding\n",
    "from torch.utils.data import Dataset, DataLoader, random_split\n",
    "from torch.nn.utils.rnn import pad_sequence, pack_padded_sequence, PackedSequence\n",
    "from torchtext.vocab import vocab, Vocab, GloVe, build_vocab_from_iterator\n",
    "from torchtext.data.utils import get_tokenizer\n",
    "from torchmetrics import MeanSquaredError\n",
    "\n",
    "import pytorch_lightning as pl\n",
    "from pytorch_lightning import Trainer\n",
    "from pytorch_lightning.loggers import TensorBoardLogger, WandbLogger\n",
    "\n",
    "from typing import Callable, List, Tuple, Iterable, Dict, Type, Any\n",
    "from functools import reduce\n",
    "from collections import OrderedDict\n",
    "\n",
    "from tqdm import tqdm\n",
    "\n",
    "import optuna\n",
    "from optuna.visualization import plot_parallel_coordinate, plot_contour\n",
    "from optuna.importance import get_param_importances\n",
    "\n",
    "import matplotlib\n",
    "matplotlib.rcParams[\"figure.facecolor\"] = \"white\"\n",
    "\n",
    "import wandb\n",
    "import inspect\n",
    "\n",
    "from functools import lru_cache\n",
    "\n",
    "from transformers import pipeline\n",
    "from transformers import AutoTokenizer, AutoModelForSequenceClassification\n",
    "\n",
    "import os\n",
    "\n",
    "from captum.attr import LayerIntegratedGradients, IntegratedGradients"
   ]
  },
  {
   "cell_type": "code",
   "execution_count": 5,
   "id": "8654e5d3-08c5-4476-b43a-91b6def935df",
   "metadata": {},
   "outputs": [
    {
     "data": {
      "application/vnd.jupyter.widget-view+json": {
       "model_id": "673e29000a2b44d78277bae479ca31d2",
       "version_major": 2,
       "version_minor": 0
      },
      "text/plain": [
       "Downloading:   0%|          | 0.00/747 [00:00<?, ?B/s]"
      ]
     },
     "metadata": {},
     "output_type": "display_data"
    },
    {
     "data": {
      "application/vnd.jupyter.widget-view+json": {
       "model_id": "f1bd6a0735504412a986f81b4e6026bb",
       "version_major": 2,
       "version_minor": 0
      },
      "text/plain": [
       "Downloading:   0%|          | 0.00/878k [00:00<?, ?B/s]"
      ]
     },
     "metadata": {},
     "output_type": "display_data"
    },
    {
     "data": {
      "application/vnd.jupyter.widget-view+json": {
       "model_id": "efe04ef36dd0429bb34d5491c5f80f3b",
       "version_major": 2,
       "version_minor": 0
      },
      "text/plain": [
       "Downloading:   0%|          | 0.00/446k [00:00<?, ?B/s]"
      ]
     },
     "metadata": {},
     "output_type": "display_data"
    },
    {
     "data": {
      "application/vnd.jupyter.widget-view+json": {
       "model_id": "44c1043453234d77a63044f52f80e25f",
       "version_major": 2,
       "version_minor": 0
      },
      "text/plain": [
       "Downloading:   0%|          | 0.00/150 [00:00<?, ?B/s]"
      ]
     },
     "metadata": {},
     "output_type": "display_data"
    },
    {
     "data": {
      "application/vnd.jupyter.widget-view+json": {
       "model_id": "28c4fbf6093a4f78b6fabd8314166d9a",
       "version_major": 2,
       "version_minor": 0
      },
      "text/plain": [
       "Downloading:   0%|          | 0.00/476M [00:00<?, ?B/s]"
      ]
     },
     "metadata": {},
     "output_type": "display_data"
    }
   ],
   "source": [
    "model_name = \"cardiffnlp/twitter-roberta-base-sentiment\"\n",
    "tokenizer = AutoTokenizer.from_pretrained(model_name)\n",
    "model = AutoModelForSequenceClassification.from_pretrained(model_name)"
   ]
  },
  {
   "cell_type": "code",
   "execution_count": 74,
   "id": "56b1ca0c-52ab-42af-8689-99ab8801142d",
   "metadata": {},
   "outputs": [],
   "source": [
    "def ig_forward(input_ids: th.Tensor) -> th.Tensor:\n",
    "    return model(input_ids).logits\n",
    "\n",
    "x = \"This is really really really fantastic and amazing!\"\n",
    "input_ids = tokenizer(x, return_tensors=\"pt\").input_ids\n",
    "tk_x_without_specials = tokenizer.encode(x, add_special_tokens=False)\n",
    "base_ids = tokenizer(\n",
    "    tokenizer.pad_token * len(tk_x_without_specials), return_tensors=\"pt\"\n",
    ").input_ids\n",
    "\n",
    "target = th.argmax(model(input_ids).logits)"
   ]
  },
  {
   "cell_type": "code",
   "execution_count": 75,
   "id": "a6d38dca-0b6b-45c4-b149-1eda4b7c8dcf",
   "metadata": {},
   "outputs": [],
   "source": [
    "ig = LayerIntegratedGradients(\n",
    "    forward_func=ig_forward, \n",
    "    layer=model.roberta.embeddings\n",
    ")\n",
    "\n",
    "attrs = ig.attribute(input_ids, base_ids, target=target)"
   ]
  },
  {
   "cell_type": "code",
   "execution_count": 76,
   "id": "68109511-a415-4b56-b591-5e40cafaa91d",
   "metadata": {},
   "outputs": [],
   "source": [
    "scores = attrs.sum(-1)\n",
    "scores = (scores - scores.mean()) / scores.norm()"
   ]
  },
  {
   "cell_type": "code",
   "execution_count": 77,
   "id": "ed1aa434-717d-4f1f-b61e-4ea191aef3e0",
   "metadata": {},
   "outputs": [
    {
     "data": {
      "text/plain": [
       "tensor([[-0.2150,  0.0467,  0.0425, -0.1773, -0.1830, -0.1588,  0.1054, -0.0764,\n",
       "          0.4409,  0.3371, -0.1619]], dtype=torch.float64)"
      ]
     },
     "execution_count": 77,
     "metadata": {},
     "output_type": "execute_result"
    }
   ],
   "source": [
    "scores"
   ]
  },
  {
   "cell_type": "code",
   "execution_count": null,
   "id": "8ae35908-20b2-49f4-9e70-ca3a8716dd43",
   "metadata": {},
   "outputs": [],
   "source": []
  }
 ],
 "metadata": {
  "kernelspec": {
   "display_name": "Python 3 (ipykernel)",
   "language": "python",
   "name": "python3"
  },
  "language_info": {
   "codemirror_mode": {
    "name": "ipython",
    "version": 3
   },
   "file_extension": ".py",
   "mimetype": "text/x-python",
   "name": "python",
   "nbconvert_exporter": "python",
   "pygments_lexer": "ipython3",
   "version": "3.9.5"
  }
 },
 "nbformat": 4,
 "nbformat_minor": 5
}
