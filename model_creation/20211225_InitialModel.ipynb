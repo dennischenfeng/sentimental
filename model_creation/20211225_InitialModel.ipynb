{
 "cells": [
  {
   "cell_type": "markdown",
   "id": "a1f85f4b-f1bf-441a-855c-45f3ebaa50a1",
   "metadata": {},
   "source": [
    "Here, I build a initial version of the sentiment analysis model"
   ]
  },
  {
   "cell_type": "code",
   "execution_count": 54,
   "id": "4b7cd768-e810-421d-9407-a6511a327104",
   "metadata": {},
   "outputs": [],
   "source": [
    "import torch as pt\n",
    "import numpy as np\n",
    "import pandas as pd\n",
    "import matplotlib.pyplot as plt\n",
    "import gzip\n",
    "import json\n",
    "\n",
    "from torchtext.data.utils import get_tokenizer\n",
    "import pytorch_lightning as pl"
   ]
  },
  {
   "cell_type": "code",
   "execution_count": null,
   "id": "88fdd530-587e-4679-b054-6bdd3c690182",
   "metadata": {},
   "outputs": [],
   "source": [
    "\"\"\"\n",
    "Plan:\n",
    "* pytorch LSTM\n",
    "* pytorch transformer model\n",
    "\"\"\""
   ]
  },
  {
   "cell_type": "markdown",
   "id": "4eb17a82-db36-484c-b75b-1304d76d1368",
   "metadata": {},
   "source": [
    "# 1. Parse and clean data into dataframe"
   ]
  },
  {
   "cell_type": "code",
   "execution_count": 16,
   "id": "2ec1a9f4-5047-4a81-8332-dcc73b34013e",
   "metadata": {},
   "outputs": [
    {
     "name": "stdout",
     "output_type": "stream",
     "text": [
      "Total num items in dataset: 53258\n"
     ]
    }
   ],
   "source": [
    "# Use example code from\n",
    "# https://colab.research.google.com/drive/1Zv6MARGQcrBbLHyjPVVMZVnRWsRnVMpV#scrollTo=7igYuRaV4bF7\n",
    "\n",
    "data = []\n",
    "with gzip.open(\"reviews_Office_Products_5.json.gz\") as f:\n",
    "    for l in f:\n",
    "        data.append(json.loads(l.strip()))\n",
    "    \n",
    "# total length of list, this number equals total number of products\n",
    "print(f\"Total num items in dataset: {len(data)}\")\n",
    "\n",
    "df = pd.DataFrame.from_dict(data)\n",
    "df = df.loc[:, [\"reviewText\", \"overall\"]]"
   ]
  },
  {
   "cell_type": "code",
   "execution_count": 43,
   "id": "3862bade-bdb9-489f-8e95-563a2bd94530",
   "metadata": {},
   "outputs": [],
   "source": [
    "# manual mapping from \"overall rating\" to \"sentiment\"\n",
    "MIN_RATING = 1\n",
    "MAX_RATING = 5\n",
    "NEUTRAL_RATING = 3.5\n",
    "def rating_to_sentiment(rating, neutral=NEUTRAL_RATING):\n",
    "    \"\"\"\n",
    "    Shifts scale to have `neutral` correspond to 0 sentiment, 1 to correspond to -1 sentiment,\n",
    "    and 5 to correspond to +1 sentiment. The mapping is a piecewise function, linear from min rating to neutral,\n",
    "    and again linear from neutral rating to max.\n",
    "    \"\"\"\n",
    "    assert MIN_RATING <= rating <= MAX_RATING\n",
    "    if rating <= neutral:\n",
    "        d = neutral - MIN_RATING\n",
    "        return -1 + (rating - MIN_RATING) / d\n",
    "    else:\n",
    "        d = MAX_RATING - neutral\n",
    "        return (rating - neutral) / d\n",
    "\n",
    "assert rating_to_sentiment(3.5) == 0\n",
    "assert rating_to_sentiment(5) == 1\n",
    "assert rating_to_sentiment(1) == -1\n",
    "assert rating_to_sentiment(3, neutral=3) == 0\n",
    "assert rating_to_sentiment(4, neutral=3) == 0.5\n",
    "assert rating_to_sentiment(2, neutral=3) == -0.5\n",
    "assert rating_to_sentiment(4) < rating_to_sentiment(4, neutral=3)\n",
    "assert rating_to_sentiment(2) < rating_to_sentiment(2, neutral=3)"
   ]
  },
  {
   "cell_type": "code",
   "execution_count": 50,
   "id": "fd528630-6302-4965-ab36-53908b36c7f5",
   "metadata": {},
   "outputs": [],
   "source": [
    "df[\"sentiment\"] = df.overall.apply(rating_to_sentiment)"
   ]
  },
  {
   "cell_type": "code",
   "execution_count": null,
   "id": "d2d9253a-02e9-40a8-ba9e-45577acb86dd",
   "metadata": {},
   "outputs": [],
   "source": []
  }
 ],
 "metadata": {
  "kernelspec": {
   "display_name": "Python 3 (ipykernel)",
   "language": "python",
   "name": "python3"
  },
  "language_info": {
   "codemirror_mode": {
    "name": "ipython",
    "version": 3
   },
   "file_extension": ".py",
   "mimetype": "text/x-python",
   "name": "python",
   "nbconvert_exporter": "python",
   "pygments_lexer": "ipython3",
   "version": "3.9.5"
  }
 },
 "nbformat": 4,
 "nbformat_minor": 5
}
