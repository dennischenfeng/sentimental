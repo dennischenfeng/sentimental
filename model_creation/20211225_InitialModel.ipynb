{
 "cells": [
  {
   "cell_type": "markdown",
   "id": "a1f85f4b-f1bf-441a-855c-45f3ebaa50a1",
   "metadata": {},
   "source": [
    "Here, I build a initial version of the sentiment analysis model"
   ]
  },
  {
   "cell_type": "code",
   "execution_count": 2,
   "id": "4b7cd768-e810-421d-9407-a6511a327104",
   "metadata": {},
   "outputs": [],
   "source": [
    "import torch as t\n",
    "import numpy as np\n",
    "import pandas as pd\n",
    "import matplotlib.pyplot as plt\n",
    "import gzip\n",
    "import json"
   ]
  },
  {
   "cell_type": "code",
   "execution_count": null,
   "id": "88fdd530-587e-4679-b054-6bdd3c690182",
   "metadata": {},
   "outputs": [],
   "source": [
    "\"\"\"\n",
    "Plan:\n",
    "* pytorch LSTM\n",
    "* pytorch transformer model\n",
    "\"\"\""
   ]
  },
  {
   "cell_type": "markdown",
   "id": "4eb17a82-db36-484c-b75b-1304d76d1368",
   "metadata": {},
   "source": [
    "# 1. Parse and clean data into dataframe"
   ]
  },
  {
   "cell_type": "code",
   "execution_count": 16,
   "id": "2ec1a9f4-5047-4a81-8332-dcc73b34013e",
   "metadata": {},
   "outputs": [
    {
     "name": "stdout",
     "output_type": "stream",
     "text": [
      "Total num items in dataset: 53258\n"
     ]
    }
   ],
   "source": [
    "# Use example code from\n",
    "# https://colab.research.google.com/drive/1Zv6MARGQcrBbLHyjPVVMZVnRWsRnVMpV#scrollTo=7igYuRaV4bF7\n",
    "\n",
    "data = []\n",
    "with gzip.open(\"reviews_Office_Products_5.json.gz\") as f:\n",
    "    for l in f:\n",
    "        data.append(json.loads(l.strip()))\n",
    "    \n",
    "# total length of list, this number equals total number of products\n",
    "print(f\"Total num items in dataset: {len(data)}\")\n",
    "\n",
    "df = pd.DataFrame.from_dict(data)\n",
    "df = df.loc[:, [\"reviewText\", \"overall\"]]"
   ]
  },
  {
   "cell_type": "code",
   "execution_count": 17,
   "id": "3862bade-bdb9-489f-8e95-563a2bd94530",
   "metadata": {},
   "outputs": [
    {
     "data": {
      "text/html": [
       "<div>\n",
       "<style scoped>\n",
       "    .dataframe tbody tr th:only-of-type {\n",
       "        vertical-align: middle;\n",
       "    }\n",
       "\n",
       "    .dataframe tbody tr th {\n",
       "        vertical-align: top;\n",
       "    }\n",
       "\n",
       "    .dataframe thead th {\n",
       "        text-align: right;\n",
       "    }\n",
       "</style>\n",
       "<table border=\"1\" class=\"dataframe\">\n",
       "  <thead>\n",
       "    <tr style=\"text-align: right;\">\n",
       "      <th></th>\n",
       "      <th>reviewText</th>\n",
       "      <th>overall</th>\n",
       "    </tr>\n",
       "  </thead>\n",
       "  <tbody>\n",
       "    <tr>\n",
       "      <th>0</th>\n",
       "      <td>I bought my first HP12C in about 1984 or so, a...</td>\n",
       "      <td>5.0</td>\n",
       "    </tr>\n",
       "    <tr>\n",
       "      <th>1</th>\n",
       "      <td>WHY THIS BELATED REVIEW? I feel very obliged t...</td>\n",
       "      <td>5.0</td>\n",
       "    </tr>\n",
       "    <tr>\n",
       "      <th>2</th>\n",
       "      <td>I have an HP 48GX that has been kicking for mo...</td>\n",
       "      <td>2.0</td>\n",
       "    </tr>\n",
       "    <tr>\n",
       "      <th>3</th>\n",
       "      <td>I've started doing more finance stuff recently...</td>\n",
       "      <td>5.0</td>\n",
       "    </tr>\n",
       "    <tr>\n",
       "      <th>4</th>\n",
       "      <td>For simple calculations and discounted cash fl...</td>\n",
       "      <td>5.0</td>\n",
       "    </tr>\n",
       "    <tr>\n",
       "      <th>...</th>\n",
       "      <td>...</td>\n",
       "      <td>...</td>\n",
       "    </tr>\n",
       "    <tr>\n",
       "      <th>53253</th>\n",
       "      <td>What I like about this scale is you can power ...</td>\n",
       "      <td>4.0</td>\n",
       "    </tr>\n",
       "    <tr>\n",
       "      <th>53254</th>\n",
       "      <td>This Accuteck ShipPro digital scale works very...</td>\n",
       "      <td>5.0</td>\n",
       "    </tr>\n",
       "    <tr>\n",
       "      <th>53255</th>\n",
       "      <td>I ship a lot of stuff.  I sell small parts, ma...</td>\n",
       "      <td>5.0</td>\n",
       "    </tr>\n",
       "    <tr>\n",
       "      <th>53256</th>\n",
       "      <td>This is a great little scale to have. It can w...</td>\n",
       "      <td>5.0</td>\n",
       "    </tr>\n",
       "    <tr>\n",
       "      <th>53257</th>\n",
       "      <td>When asked to review this scale, I almost decl...</td>\n",
       "      <td>4.0</td>\n",
       "    </tr>\n",
       "  </tbody>\n",
       "</table>\n",
       "<p>53258 rows × 2 columns</p>\n",
       "</div>"
      ],
      "text/plain": [
       "                                              reviewText  overall\n",
       "0      I bought my first HP12C in about 1984 or so, a...      5.0\n",
       "1      WHY THIS BELATED REVIEW? I feel very obliged t...      5.0\n",
       "2      I have an HP 48GX that has been kicking for mo...      2.0\n",
       "3      I've started doing more finance stuff recently...      5.0\n",
       "4      For simple calculations and discounted cash fl...      5.0\n",
       "...                                                  ...      ...\n",
       "53253  What I like about this scale is you can power ...      4.0\n",
       "53254  This Accuteck ShipPro digital scale works very...      5.0\n",
       "53255  I ship a lot of stuff.  I sell small parts, ma...      5.0\n",
       "53256  This is a great little scale to have. It can w...      5.0\n",
       "53257  When asked to review this scale, I almost decl...      4.0\n",
       "\n",
       "[53258 rows x 2 columns]"
      ]
     },
     "execution_count": 17,
     "metadata": {},
     "output_type": "execute_result"
    }
   ],
   "source": [
    "df"
   ]
  },
  {
   "cell_type": "code",
   "execution_count": null,
   "id": "25983061-dc2b-4b2d-bf12-e24a6a6ca7a2",
   "metadata": {},
   "outputs": [],
   "source": []
  }
 ],
 "metadata": {
  "kernelspec": {
   "display_name": "Python 3 (ipykernel)",
   "language": "python",
   "name": "python3"
  },
  "language_info": {
   "codemirror_mode": {
    "name": "ipython",
    "version": 3
   },
   "file_extension": ".py",
   "mimetype": "text/x-python",
   "name": "python",
   "nbconvert_exporter": "python",
   "pygments_lexer": "ipython3",
   "version": "3.9.5"
  }
 },
 "nbformat": 4,
 "nbformat_minor": 5
}
